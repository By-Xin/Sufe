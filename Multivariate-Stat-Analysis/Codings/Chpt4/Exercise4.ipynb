{
 "cells": [
  {
   "attachments": {},
   "cell_type": "markdown",
   "metadata": {},
   "source": [
    "# Chapter 4"
   ]
  },
  {
   "attachments": {},
   "cell_type": "markdown",
   "metadata": {},
   "source": [
    "## Problem 4.1\n",
    "(1) 检验 $H_0: \\mu = \\mu_0 = (4,50,10)'$"
   ]
  },
  {
   "cell_type": "code",
   "execution_count": 93,
   "metadata": {},
   "outputs": [
    {
     "name": "stdout",
     "output_type": "stream",
     "text": [
      "[[ 3.7 48.5  9.3]\n",
      " [ 5.7 65.1  8. ]\n",
      " [ 3.8 47.2 10.9]\n",
      " [ 3.2 53.2 12. ]\n",
      " [ 3.1 55.5  9.7]\n",
      " [ 4.6 36.1  7.9]\n",
      " [ 2.4 24.8 14. ]\n",
      " [ 7.2 33.1  7.6]\n",
      " [ 6.7 47.4  8.5]\n",
      " [ 5.4 54.1 11.3]\n",
      " [ 3.9 36.9 12.7]\n",
      " [ 4.5 58.8 12.3]\n",
      " [ 3.5 27.8  9.8]\n",
      " [ 4.5 40.2  8.4]\n",
      " [ 1.5 13.5 10.1]\n",
      " [ 8.5 56.4  7.1]\n",
      " [ 4.5 71.6  8.2]\n",
      " [ 6.5 52.8 10.9]\n",
      " [ 4.1 44.1 11.2]\n",
      " [ 5.5 40.9  9.4]]\n"
     ]
    },
    {
     "name": "stderr",
     "output_type": "stream",
     "text": [
      "/Users/xinby/opt/anaconda3/lib/python3.9/site-packages/openpyxl/worksheet/header_footer.py:48: UserWarning: Cannot parse header or footer so it will be ignored\n",
      "  warn(\"\"\"Cannot parse header or footer so it will be ignored\"\"\")\n"
     ]
    }
   ],
   "source": [
    "import numpy as np\n",
    "import pandas as pd\n",
    "from scipy import stats\n",
    "\n",
    "path = \"/Users/xinby/Desktop/Sufe/Multivariate-Stat-Analysis/Chpt4/exec4.1.xlsx\"\n",
    "dat1 = pd.read_excel(path)\n",
    "dat1 = dat1.values\n",
    "print(dat1)"
   ]
  },
  {
   "attachments": {},
   "cell_type": "markdown",
   "metadata": {},
   "source": [
    "由于没有给出总体方差，需要用样本协方差矩阵代替总体协方差矩阵，公式：$T^2 = n(\\bar x - \\mu_0)'S^{-1}(\\bar x -\\mu_0)$，当原假设成立时有：$\\frac{n-p}{p(n-1)}T^2\\sim F(p,n-p)$\n",
    "  \n",
    "**[Coding Tips]**\n",
    "- 在 `numpy` 中，` np.cov()` 可以用来计算协方差（协方差矩阵），其中参数设置`rowvar = False` 会将每一列认为是一个变量，这一点需要特殊注意，其默认值*True*与一般统计习惯不符\n",
    "- 保持良好的计算习惯：这里我们需要计算$S^{-1}(\\bar x -\\mu_0)$，因此我们应当通过求解方程（设t为未知向量）$St=(\\bar x-\\mu_0$来避免显式求解逆运算，在python的实现为`np.linalg.solve(S, xbar-mu0)`\n",
    "- `scipy.stats.f`包中，`dfn`与`dfd`分别代表第1、2自由度，不要弄反($F(dfn,dfd)$)，`stats.f.sf`相当于$1-cdf$，但可能具体数值计算上会稍微更精准一些"
   ]
  },
  {
   "cell_type": "code",
   "execution_count": 160,
   "metadata": {},
   "outputs": [
    {
     "name": "stdout",
     "output_type": "stream",
     "text": [
      "xbar:\n",
      " [ 4.64  45.4    9.965]\n",
      "S:\n",
      " [[  2.87936842  10.01        -1.80905263]\n",
      " [ 10.01       199.78842105  -5.64      ]\n",
      " [ -1.80905263  -5.64         3.62765789]]\n",
      "Tsquare:\n",
      " 9.738772855435641\n",
      "F:\n",
      " 2.904546290217647\n",
      "p_value:\n",
      " 0.0649283353805298\n"
     ]
    }
   ],
   "source": [
    "n = len(dat1)\n",
    "xbar = np.average(dat1,axis=0)\n",
    "print(\"xbar:\\n\",xbar)\n",
    "mu0 = [4,50,10]\n",
    "# S as Sample Covariance Matrix\n",
    "S = np.cov(dat1,rowvar=False) \n",
    "print(\"S:\\n\",S)\n",
    "# T_sq as Hotelling T\n",
    "T_sq = n*(xbar - mu0).transpose().dot(np.linalg.solve(S, xbar-mu0)) # T_sq is Hotelling T\n",
    "print(\"Tsquare:\\n\",T_sq)\n",
    "# From Hotelling T_sq to F \n",
    "p = dat1.shape[1] # p is the num of variables (width of the matrix)\n",
    "F = (n-p)/(p*(n-1))*T_sq\n",
    "print(\"F:\\n\",F)\n",
    "# From F~F(p,n-p) compute p_value\n",
    "alpha = 0.05\n",
    "df1 = p\n",
    "df2 = n-p\n",
    "pvalue = stats.f.sf(x = F, dfn = df1, dfd = df2)\n",
    "print(\"p_value:\\n\",pvalue)"
   ]
  },
  {
   "attachments": {},
   "cell_type": "markdown",
   "metadata": {},
   "source": [
    "由上述输出可知，p略大于0.05，无法拒绝原假设，可以认为与给定均值统计意义上相等。\n",
    "\n"
   ]
  },
  {
   "attachments": {},
   "cell_type": "markdown",
   "metadata": {},
   "source": [
    "## Prob 4.3\n",
    "在多元正态和两总体协方差矩阵相等的假定下甲和乙两种品牌轮胎的耐用性指标是否有显著不同($\\alpha=0.05$)？"
   ]
  },
  {
   "cell_type": "code",
   "execution_count": 201,
   "metadata": {},
   "outputs": [
    {
     "name": "stdout",
     "output_type": "stream",
     "text": [
      "dat3.1:\n",
      " [[194 192 141]\n",
      " [208 188 165]\n",
      " [233 217 171]\n",
      " [241 222 201]\n",
      " [265 252 207]\n",
      " [269 283 191]] \n",
      "dat3.2:\n",
      " [[239 127  90]\n",
      " [189 105  85]\n",
      " [224 123  79]\n",
      " [243 123 110]\n",
      " [243 117 100]\n",
      " [226 125  75]]\n"
     ]
    },
    {
     "name": "stderr",
     "output_type": "stream",
     "text": [
      "/Users/xinby/opt/anaconda3/lib/python3.9/site-packages/openpyxl/worksheet/header_footer.py:48: UserWarning: Cannot parse header or footer so it will be ignored\n",
      "  warn(\"\"\"Cannot parse header or footer so it will be ignored\"\"\")\n"
     ]
    }
   ],
   "source": [
    "path = \"/Users/xinby/Desktop/Sufe/Multivariate-Stat-Analysis/Chpt4/exec4.3.xlsx\"\n",
    "dat3 = pd.read_excel(path)\n",
    "dat3_1 = dat3[dat3[\"g\"]==\"甲\"].drop(columns='g').values\n",
    "dat3_2 = dat3[dat3[\"g\"]==\"乙\"].drop(columns='g').values\n",
    "print(\"dat3.1:\\n\",dat3_1,\"\\ndat3.2:\\n\",dat3_2)"
   ]
  },
  {
   "attachments": {},
   "cell_type": "markdown",
   "metadata": {},
   "source": [
    "对于两独立样本均值的比较推断，在本假设中有正态、协方差相等，故可以用如下公式：\n",
    "$$T^2 = (1/n_1+1/n_2)^{-1}(\\bar x-\\bar y)'S_p^{-1}(\\bar x-\\bar y)$$\n",
    "当原假设为真，则有：\n",
    "$$(n_1+n_2-p-1)/(p(n_1+n_2-2))T^2\\sim F(p,n_1+n_2-p-1)$$"
   ]
  },
  {
   "cell_type": "code",
   "execution_count": 226,
   "metadata": {},
   "outputs": [
    {
     "name": "stdout",
     "output_type": "stream",
     "text": [
      "n1,n2,p: 6 6 4\n",
      "xbar:\n",
      " [235.         225.66666667 179.33333333] \n",
      "ybar:\n",
      " [227.33333333 120.          89.83333333]\n",
      "S1:\n",
      " [[ 901.2        1026.4         666.4       ]\n",
      " [1026.4        1324.26666667  644.13333333]\n",
      " [ 666.4         644.13333333  623.06666667]] \n",
      "S2:\n",
      " [[421.86666667 128.         143.66666667]\n",
      " [128.          65.2         -0.6       ]\n",
      " [143.66666667  -0.6        174.16666667]] \n",
      "Sp:\n",
      " [[661.53333333 577.2        405.03333333]\n",
      " [577.2        694.73333333 321.76666667]\n",
      " [405.03333333 321.76666667 398.61666667]]\n",
      "T_sq:\n",
      " 365.3141334419115 \n",
      "F:\n",
      " 63.92997335233451\n"
     ]
    },
    {
     "data": {
      "text/plain": [
       "1.3606163393532304e-05"
      ]
     },
     "execution_count": 226,
     "metadata": {},
     "output_type": "execute_result"
    }
   ],
   "source": [
    "n1 = len(dat3_1)\n",
    "n2 = len(dat3_2)\n",
    "p = dat3.shape[1]\n",
    "print(\"n1,n2,p:\",n1,n2,p)\n",
    "\n",
    "xbar = dat3_1.mean(axis =0)\n",
    "ybar = dat3_2.mean(axis =0)\n",
    "S1 = np.cov(dat3_1,rowvar=False)\n",
    "S2 = np.cov(dat3_2,rowvar=False)\n",
    "Sp = ((n1-1)*S1 + (n2-1)*S2)/(n1+n2-2)\n",
    "print(\"xbar:\\n\",xbar,\"\\nybar:\\n\",ybar)\n",
    "print(\"S1:\\n\",S1,\"\\nS2:\\n\",S2,\"\\nSp:\\n\",Sp)\n",
    "\n",
    "T_sq = (n1*n2)/(n1+n2)*(xbar - ybar).transpose().dot(np.linalg.solve(Sp,xbar-ybar))\n",
    "F = (n1+n2-p-1)/(p*(n1+n2-2))*T_sq\n",
    "print(\"T_sq:\\n\",T_sq,\"\\nF:\\n\",F)\n",
    "\n",
    "df1 = p\n",
    "df2 = n1+n2-p-1 \n",
    "stats.f.sf(F,dfn = df1,dfd = df2)\n",
    "\n",
    "\n"
   ]
  },
  {
   "cell_type": "code",
   "execution_count": null,
   "metadata": {},
   "outputs": [],
   "source": []
  },
  {
   "cell_type": "code",
   "execution_count": null,
   "metadata": {},
   "outputs": [],
   "source": []
  }
 ],
 "metadata": {
  "kernelspec": {
   "display_name": "base",
   "language": "python",
   "name": "python3"
  },
  "language_info": {
   "codemirror_mode": {
    "name": "ipython",
    "version": 3
   },
   "file_extension": ".py",
   "mimetype": "text/x-python",
   "name": "python",
   "nbconvert_exporter": "python",
   "pygments_lexer": "ipython3",
   "version": "3.9.12"
  },
  "orig_nbformat": 4
 },
 "nbformat": 4,
 "nbformat_minor": 2
}
